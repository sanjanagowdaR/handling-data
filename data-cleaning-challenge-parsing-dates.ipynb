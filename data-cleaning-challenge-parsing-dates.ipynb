{
 "cells": [
  {
   "cell_type": "markdown",
   "metadata": {
    "_cell_guid": "5cd5061f-ae30-4837-a53b-690ffd5c5830",
    "_uuid": "9d82bf13584b8e682962fbb96131f2447d741679"
   },
   "source": [
    "# Get our environment set up\n",
    "________\n",
    "\n",
    "The first thing we'll need to do is load in the libraries and datasets we'll be using. For today, we'll be working with two datasets: one containing information on earthquakes that occured between 1965 and 2016, and another that contains information on landslides that occured between 2007 and 2016.\n",
    "\n",
    "> **Important!** Make sure you run this cell yourself or the rest of your code won't work!"
   ]
  },
  {
   "cell_type": "code",
   "execution_count": 5,
   "metadata": {
    "_cell_guid": "135a7804-b5f5-40aa-8657-4a15774e3666",
    "_uuid": "835cbe0834b935fb0fd40c75b9c39454836f4d5f"
   },
   "outputs": [
    {
     "name": "stdout",
     "output_type": "stream",
     "text": [
      "Earthquakes Dataset:\n",
      "         Date      Time  Latitude  Longitude        Type  Depth  Depth Error  \\\n",
      "0  01/02/1965  13:44:18    19.246    145.616  Earthquake  131.6          NaN   \n",
      "1  01/04/1965  11:29:49     1.863    127.352  Earthquake   80.0          NaN   \n",
      "2  01/05/1965  18:05:58   -20.579   -173.972  Earthquake   20.0          NaN   \n",
      "3  01/08/1965  18:49:43   -59.076    -23.557  Earthquake   15.0          NaN   \n",
      "4  01/09/1965  13:32:50    11.938    126.427  Earthquake   15.0          NaN   \n",
      "\n",
      "   Depth Seismic Stations  Magnitude Magnitude Type  ...  \\\n",
      "0                     NaN        6.0             MW  ...   \n",
      "1                     NaN        5.8             MW  ...   \n",
      "2                     NaN        6.2             MW  ...   \n",
      "3                     NaN        5.8             MW  ...   \n",
      "4                     NaN        5.8             MW  ...   \n",
      "\n",
      "   Magnitude Seismic Stations  Azimuthal Gap  Horizontal Distance  \\\n",
      "0                         NaN            NaN                  NaN   \n",
      "1                         NaN            NaN                  NaN   \n",
      "2                         NaN            NaN                  NaN   \n",
      "3                         NaN            NaN                  NaN   \n",
      "4                         NaN            NaN                  NaN   \n",
      "\n",
      "   Horizontal Error  Root Mean Square            ID  Source Location Source  \\\n",
      "0               NaN               NaN  ISCGEM860706  ISCGEM          ISCGEM   \n",
      "1               NaN               NaN  ISCGEM860737  ISCGEM          ISCGEM   \n",
      "2               NaN               NaN  ISCGEM860762  ISCGEM          ISCGEM   \n",
      "3               NaN               NaN  ISCGEM860856  ISCGEM          ISCGEM   \n",
      "4               NaN               NaN  ISCGEM860890  ISCGEM          ISCGEM   \n",
      "\n",
      "  Magnitude Source     Status  \n",
      "0           ISCGEM  Automatic  \n",
      "1           ISCGEM  Automatic  \n",
      "2           ISCGEM  Automatic  \n",
      "3           ISCGEM  Automatic  \n",
      "4           ISCGEM  Automatic  \n",
      "\n",
      "[5 rows x 21 columns]\n",
      "\n",
      "Landslides Dataset:\n",
      "   id     date   time continent_code   country_name country_code  \\\n",
      "0  34   3/2/07  Night            NaN  United States           US   \n",
      "1  42  3/22/07    NaN            NaN  United States           US   \n",
      "2  56   4/6/07    NaN            NaN  United States           US   \n",
      "3  59  4/14/07    NaN            NaN         Canada           CA   \n",
      "4  61  4/15/07    NaN            NaN  United States           US   \n",
      "\n",
      "  state/province  population         city/town  distance  ...  \\\n",
      "0       Virginia       16000       Cherry Hill   3.40765  ...   \n",
      "1           Ohio       17288  New Philadelphia   3.33522  ...   \n",
      "2   Pennsylvania       15930       Wilkinsburg   2.91977  ...   \n",
      "3         Quebec       42786       Châteauguay   2.98682  ...   \n",
      "4       Kentucky        6903         Pikeville   5.66542  ...   \n",
      "\n",
      "                                 geolocation  hazard_type      landslide_type  \\\n",
      "0  (38.600900000000003, -77.268199999999993)    Landslide           Landslide   \n",
      "1  (40.517499999999998, -81.430499999999995)    Landslide           Landslide   \n",
      "2             (40.4377, -79.915999999999997)    Landslide           Landslide   \n",
      "3  (45.322600000000001, -73.777100000000004)    Landslide  Riverbank collapse   \n",
      "4  (37.432499999999997, -82.493099999999998)    Landslide           Landslide   \n",
      "\n",
      "  landslide_size   trigger storm_name injuries fatalities  \\\n",
      "0          Small      Rain        NaN      NaN        NaN   \n",
      "1          Small      Rain        NaN      NaN        NaN   \n",
      "2          Small      Rain        NaN      NaN        NaN   \n",
      "3          Small      Rain        NaN      NaN        NaN   \n",
      "4          Small  Downpour        NaN      NaN        0.0   \n",
      "\n",
      "                  source_name  \\\n",
      "0                  NBC 4 news   \n",
      "1              Canton Rep.com   \n",
      "2  The Pittsburgh Channel.com   \n",
      "3                   Le Soleil   \n",
      "4      Matthew Crawford (KGS)   \n",
      "\n",
      "                                         source_link  \n",
      "0      http://www.nbc4.com/news/11186871/detail.html  \n",
      "1  http://www.cantonrep.com/index.php?ID=345054&C...  \n",
      "2  https://web.archive.org/web/20080423132842/htt...  \n",
      "3  http://www.hebdos.net/lsc/edition162007/articl...  \n",
      "4                                                NaN  \n",
      "\n",
      "[5 rows x 23 columns]\n",
      "\n",
      "Volcanos Dataset:\n",
      "   Number                       Name  Country                          Region  \\\n",
      "0  210010  West Eifel Volcanic Field  Germany  Mediterranean and Western Asia   \n",
      "1  210020            Chaine des Puys   France  Mediterranean and Western Asia   \n",
      "2  210030        Olot Volcanic Field    Spain  Mediterranean and Western Asia   \n",
      "3  210040   Calatrava Volcanic Field    Spain  Mediterranean and Western Asia   \n",
      "4  211001                 Larderello    Italy  Mediterranean and Western Asia   \n",
      "\n",
      "                  Type  Activity Evidence Last Known Eruption  Latitude  \\\n",
      "0              Maar(s)     Eruption Dated            8300 BCE    50.170   \n",
      "1         Lava dome(s)     Eruption Dated            4040 BCE    45.775   \n",
      "2  Pyroclastic cone(s)  Evidence Credible             Unknown    42.170   \n",
      "3  Pyroclastic cone(s)     Eruption Dated            3600 BCE    38.870   \n",
      "4  Explosion crater(s)  Eruption Observed             1282 CE    43.250   \n",
      "\n",
      "   Longitude  Elevation (Meters)                Dominant Rock Type  \\\n",
      "0       6.85                 600                           Foidite   \n",
      "1       2.97                1464             Basalt / Picro-Basalt   \n",
      "2       2.53                 893  Trachybasalt / Tephrite Basanite   \n",
      "3      -4.02                1117             Basalt / Picro-Basalt   \n",
      "4      10.87                 500                           No Data   \n",
      "\n",
      "                               Tectonic Setting  \n",
      "0        Rift Zone / Continental Crust (>25 km)  \n",
      "1        Rift Zone / Continental Crust (>25 km)  \n",
      "2       Intraplate / Continental Crust (>25 km)  \n",
      "3       Intraplate / Continental Crust (>25 km)  \n",
      "4  Subduction Zone / Continental Crust (>25 km)  \n"
     ]
    }
   ],
   "source": [
    "# Import necessary libraries\n",
    "import pandas as pd\n",
    "import numpy as np\n",
    "import seaborn as sns\n",
    "import datetime\n",
    "\n",
    "# Set seed for reproducibility\n",
    "np.random.seed(0)\n",
    "\n",
    "# File paths\n",
    "earthquakes_file = r\"C:\\Users\\yashu\\Downloads\\database.csv.zip\"\n",
    "landslides_file = r\"C:\\Users\\yashu\\Downloads\\catalog.csv\"\n",
    "volcanos_file = r\"C:\\Users\\yashu\\Downloads\\database.csv\"\n",
    "\n",
    "# Read datasets\n",
    "earthquakes = pd.read_csv(earthquakes_file)\n",
    "landslides = pd.read_csv(landslides_file)\n",
    "volcanos = pd.read_csv(volcanos_file)\n",
    "\n",
    "# Quick preview of the datasets\n",
    "print(\"Earthquakes Dataset:\")\n",
    "print(earthquakes.head())\n",
    "print(\"\\nLandslides Dataset:\")\n",
    "print(landslides.head())\n",
    "print(\"\\nVolcanos Dataset:\")\n",
    "print(volcanos.head())\n"
   ]
  },
  {
   "cell_type": "markdown",
   "metadata": {
    "_cell_guid": "604ac3a4-b1d9-4264-b312-4bbeecdeec00",
    "_uuid": "03ce3b4afe87d98f777172c2c7be066a66a0b237"
   },
   "source": [
    "Now we're ready to look at some dates! (If you like, you can take this opportunity to take a look at some of the data.)"
   ]
  },
  {
   "cell_type": "markdown",
   "metadata": {
    "_cell_guid": "9b87a77d-e5e5-4581-9cd3-0e7339fe1516",
    "_uuid": "742028572a307a42ce40db0102171bc219b05282"
   },
   "source": [
    "# Check the data type of our date column\n",
    "___\n",
    "\n",
    "For this part of the challenge, I'll be working with the `date` column from the `landslides` dataframe. The very first thing I'm going to do is take a peek at the first few rows to make sure it actually looks like it contains dates."
   ]
  },
  {
   "cell_type": "code",
   "execution_count": 6,
   "metadata": {
    "_cell_guid": "e6b7eb39-c3e3-40a1-b0a5-91cfcd2d42da",
    "_uuid": "93a08de7a6a621e4b07968c07c1cc612936c6027"
   },
   "outputs": [
    {
     "name": "stdout",
     "output_type": "stream",
     "text": [
      "First few rows of the 'date' column:\n",
      "0     3/2/07\n",
      "1    3/22/07\n",
      "2     4/6/07\n",
      "3    4/14/07\n",
      "4    4/15/07\n",
      "Name: date, dtype: object\n"
     ]
    }
   ],
   "source": [
    "# Check if 'date' column exists and print the first few rows\n",
    "if 'date' in landslides.columns:\n",
    "    print(\"First few rows of the 'date' column:\")\n",
    "    print(landslides['date'].head())\n",
    "else:\n",
    "    print(\"'date' column not found in the landslides dataset.\")\n"
   ]
  },
  {
   "cell_type": "code",
   "execution_count": 7,
   "metadata": {
    "_cell_guid": "56a047f4-cbf7-4914-951c-a04310ee7432",
    "_uuid": "e2ab2ac80aaac7b165b3af64edb75d29f2612482"
   },
   "outputs": [
    {
     "name": "stdout",
     "output_type": "stream",
     "text": [
      "Original data type of 'date' column: object\n",
      "New data type of 'date' column: datetime64[ns]\n"
     ]
    },
    {
     "name": "stderr",
     "output_type": "stream",
     "text": [
      "C:\\Users\\yashu\\AppData\\Local\\Temp\\ipykernel_13976\\3614268438.py:8: UserWarning: Could not infer format, so each element will be parsed individually, falling back to `dateutil`. To ensure parsing is consistent and as-expected, please specify a format.\n",
      "  landslides['date'] = pd.to_datetime(landslides['date'], errors='coerce')\n"
     ]
    }
   ],
   "source": [
    "# Check if 'date' column exists\n",
    "if 'date' in landslides.columns:\n",
    "    # Check the data type of the 'date' column\n",
    "    print(f\"Original data type of 'date' column: {landslides['date'].dtype}\")\n",
    "    \n",
    "    # Convert to datetime if not already in datetime format\n",
    "    if landslides['date'].dtype != 'datetime64[ns]':\n",
    "        landslides['date'] = pd.to_datetime(landslides['date'], errors='coerce')\n",
    "        print(f\"New data type of 'date' column: {landslides['date'].dtype}\")\n",
    "    else:\n",
    "        print(\"'date' column is already in datetime format.\")\n",
    "else:\n",
    "    print(\"'date' column not found in the landslides dataset.\")\n"
   ]
  },
  {
   "cell_type": "code",
   "execution_count": null,
   "metadata": {
    "_cell_guid": "8987e921-0c37-4c0f-ba68-e4e26d8d1a1b",
    "_uuid": "a2a983470b318469993b75b450bab28c12b59ae6",
    "collapsed": true,
    "jupyter": {
     "outputs_hidden": true
    }
   },
   "outputs": [],
   "source": [
    "# Your turn! Check the data type of the Date column in the earthquakes dataframe\n",
    "# (note the capital 'D' in date!)\n"
   ]
  },
  {
   "cell_type": "markdown",
   "metadata": {
    "_cell_guid": "fb3b552b-411b-4fc0-b1e6-a3a8156fd459",
    "_uuid": "0939ce269aef7001e35cc8f2a5f1eed1f6160940"
   },
   "source": [
    "# Convert our date columns to datetime\n",
    "___\n",
    "\n",
    "Now that we know that our date column isn't being recognized as a date, it's time to convert it so that it *is* recognized as a date. This is called \"parsing dates\" because we're taking in a string and identifying its component parts.\n",
    "\n",
    "We can pandas what the format of our dates are with a guide called as [\"strftime directive\", which you can find more information on at this link](http://strftime.org/). The basic idea is that you need to point out which parts of the date are where and what punctuation is between them. There are [lots of possible parts of a date](http://strftime.org/), but the most common are `%d` for day, `%m` for month, `%y` for a two-digit year and `%Y` for a four digit year.\n",
    "\n",
    "Some examples:\n",
    "\n",
    " * 1/17/07 has the format \"%m/%d/%y\"\n",
    " * 17-1-2007 has the format \"%d-%m-%Y\"\n",
    " \n",
    " Looking back up at the head of the `date` column in the landslides dataset, we can see that it's in the format \"month/day/two-digit year\", so we can use the same syntax as the first example to parse in our dates: "
   ]
  },
  {
   "cell_type": "code",
   "execution_count": 9,
   "metadata": {
    "_cell_guid": "f955aa17-ede7-4457-a913-ba1c44f8846d",
    "_uuid": "a471aae50241b245caa0c60fbb19821372682b76"
   },
   "outputs": [
    {
     "name": "stdout",
     "output_type": "stream",
     "text": [
      "First few rows of the 'date_parsed' column:\n",
      "        date date_parsed\n",
      "0 2007-03-02  2007-03-02\n",
      "1 2007-03-22  2007-03-22\n",
      "2 2007-04-06  2007-04-06\n",
      "3 2007-04-14  2007-04-14\n",
      "4 2007-04-15  2007-04-15\n"
     ]
    }
   ],
   "source": [
    "# Check if 'date' column exists\n",
    "if 'date' in landslides.columns:\n",
    "    try:\n",
    "        # Parse the 'date' column and create a new column 'date_parsed'\n",
    "        landslides['date_parsed'] = pd.to_datetime(landslides['date'], format=\"%m/%d/%y\", errors='coerce')\n",
    "        print(\"First few rows of the 'date_parsed' column:\")\n",
    "        print(landslides[['date', 'date_parsed']].head())\n",
    "    except Exception as e:\n",
    "        print(f\"An error occurred while parsing dates: {e}\")\n",
    "else:\n",
    "    print(\"'date' column not found in the landslides dataset.\")\n"
   ]
  },
  {
   "cell_type": "markdown",
   "metadata": {
    "_cell_guid": "09c1c55c-3883-4f5e-8ea9-e914b09416b6",
    "_uuid": "50feaed5f874d8c09f983ad3172febdc54f4f0bb"
   },
   "source": [
    "Now when I check the first few rows of the new column, I can see that the dtype is `datetime64`. I can also see that my dates have been slightly rearranged so that they fit the default order datetime objects (year-month-day)."
   ]
  },
  {
   "cell_type": "code",
   "execution_count": 10,
   "metadata": {
    "_cell_guid": "5a6c6244-b724-4a70-b356-6e3fb1e61270",
    "_uuid": "2bff07787e5aa5ad2b6484c5bcee18b5b2f283bc"
   },
   "outputs": [
    {
     "name": "stdout",
     "output_type": "stream",
     "text": [
      "First few rows of the 'date_parsed' column:\n",
      "0   2007-03-02\n",
      "1   2007-03-22\n",
      "2   2007-04-06\n",
      "3   2007-04-14\n",
      "4   2007-04-15\n",
      "Name: date_parsed, dtype: datetime64[ns]\n"
     ]
    }
   ],
   "source": [
    "# Check if 'date_parsed' column exists and print the first few rows\n",
    "if 'date_parsed' in landslides.columns:\n",
    "    print(\"First few rows of the 'date_parsed' column:\")\n",
    "    print(landslides['date_parsed'].head())\n",
    "else:\n",
    "    print(\"'date_parsed' column does not exist in the dataset. Please create it first.\")\n"
   ]
  },
  {
   "cell_type": "markdown",
   "metadata": {
    "_cell_guid": "7bd8f8b6-8a60-4a12-b94b-4100188845da",
    "_uuid": "fc95b22f0f4d7a6bc0cb1a7cc55abfb204cc81f9"
   },
   "source": [
    "Now that our dates are parsed correctly, we can interact with them in useful ways.\n",
    "\n",
    "___\n",
    "* **What if I run into an error with multiple date formats?** While we're specifying the date format here, sometimes you'll run into an error when there are multiple date formats in a single column. If that happens, you have have pandas try to infer what the right date format should be. You can do that like so:\n",
    "\n",
    "`landslides['date_parsed'] = pd.to_datetime(landslides['Date'], infer_datetime_format=True)`\n",
    "\n",
    "* **Why don't you always use `infer_datetime_format = True?`** There are two big reasons not to always have pandas guess the time format. The first is that pandas won't always been able to figure out the correct date format, especially if someone has gotten creative with data entry. The second is that it's much slower than specifying the exact format of the dates.\n",
    "____"
   ]
  },
  {
   "cell_type": "code",
   "execution_count": null,
   "metadata": {
    "_cell_guid": "beba42ab-fb0e-4285-83cb-984a51bdb8ed",
    "_uuid": "c029d8021e0d6cd5de3c9e62014a498c7dd5d582",
    "collapsed": true,
    "jupyter": {
     "outputs_hidden": true
    }
   },
   "outputs": [],
   "source": [
    "# Your turn! Create a new column, date_parsed, in the earthquakes\n",
    "# dataset that has correctly parsed dates in it. (Don't forget to \n",
    "# double-check that the dtype is correct!)\n"
   ]
  },
  {
   "cell_type": "markdown",
   "metadata": {
    "_cell_guid": "9f310829-85bd-44c8-b1c5-d582407b5931",
    "_uuid": "3d6f5bef5deb1c1d4d83bbcaeb9ba23612978f35"
   },
   "source": [
    "# Select just the day of the month from our column\n",
    "___\n",
    "\n",
    "\"Ok, Rachael,\" you may be saying at this point, \"This messing around with data types is fine, I guess, but what's the *point*?\" To answer your question, let's try to get information on the day of the month that a landslide occured on from the original \"date\" column, which has an \"object\" dtype: "
   ]
  },
  {
   "cell_type": "code",
   "execution_count": 11,
   "metadata": {
    "_cell_guid": "ff451a5e-4447-40e2-ad76-367136a1fcff",
    "_uuid": "3c3be07dbf7394103a1db120e6ecbdffaf08d37f"
   },
   "outputs": [
    {
     "name": "stdout",
     "output_type": "stream",
     "text": [
      "First few values of the day of the month:\n",
      "0     2.0\n",
      "1    22.0\n",
      "2     6.0\n",
      "3    14.0\n",
      "4    15.0\n",
      "Name: date, dtype: float64\n"
     ]
    }
   ],
   "source": [
    "# Ensure the 'date' column is in datetime format\n",
    "if 'date' in landslides.columns:\n",
    "    # Convert 'date' column to datetime if not already in datetime format\n",
    "    landslides['date'] = pd.to_datetime(landslides['date'], errors='coerce')\n",
    "\n",
    "    # Extract the day of the month\n",
    "    day_of_month_landslides = landslides['date'].dt.day\n",
    "    print(\"First few values of the day of the month:\")\n",
    "    print(day_of_month_landslides.head())\n",
    "else:\n",
    "    print(\"'date' column not found in the landslides dataset.\")\n"
   ]
  },
  {
   "cell_type": "markdown",
   "metadata": {
    "_cell_guid": "c78aada6-c4d9-4464-894e-bdd4fabb4b13",
    "_uuid": "5847844cdd3aede3ff62bc5115f1d69c91b4af9d"
   },
   "source": [
    "We got an error! The important part to look at here is the part at the very end that says `AttributeError: Can only use .dt accessor with datetimelike values`. We're getting this error because the dt.day() function doesn't know how to deal with a column with the dtype \"object\". Even though our dataframe has dates in it, because they haven't been parsed we can't interact with them in a useful way.\n",
    "\n",
    "Luckily, we have a column that we parsed earlier , and that lets us get the day of the month out no problem:"
   ]
  },
  {
   "cell_type": "code",
   "execution_count": 12,
   "metadata": {
    "_cell_guid": "27b6422d-3a62-47ca-bb87-6e6292bed7cf",
    "_uuid": "e0be15da345949c990b5789e2a94f8f4e09e4cf5"
   },
   "outputs": [
    {
     "name": "stdout",
     "output_type": "stream",
     "text": [
      "First few values of the day of the month:\n",
      "0     2.0\n",
      "1    22.0\n",
      "2     6.0\n",
      "3    14.0\n",
      "4    15.0\n",
      "Name: date_parsed, dtype: float64\n"
     ]
    }
   ],
   "source": [
    "# Check if 'date_parsed' column exists and is in datetime format\n",
    "if 'date_parsed' in landslides.columns:\n",
    "    # Ensure 'date_parsed' column is in datetime format\n",
    "    if landslides['date_parsed'].dtype == 'datetime64[ns]':\n",
    "        # Extract the day of the month\n",
    "        day_of_month_landslides = landslides['date_parsed'].dt.day\n",
    "        print(\"First few values of the day of the month:\")\n",
    "        print(day_of_month_landslides.head())\n",
    "    else:\n",
    "        print(\"'date_parsed' column is not in datetime format. Please convert it first.\")\n",
    "else:\n",
    "    print(\"'date_parsed' column does not exist in the dataset.\")\n"
   ]
  },
  {
   "cell_type": "code",
   "execution_count": null,
   "metadata": {
    "_cell_guid": "aa3c05ea-f6d1-453f-86dc-c2fd9f8b3fd6",
    "_uuid": "ffe9bfc0acef502b995aa61ee1c5d2e4a59a5e4e",
    "collapsed": true,
    "jupyter": {
     "outputs_hidden": true
    }
   },
   "outputs": [],
   "source": [
    "# Your turn! get the day of the month from the date_parsed column\n"
   ]
  },
  {
   "cell_type": "markdown",
   "metadata": {
    "_cell_guid": "fe33df7d-c85d-4b61-b572-5682e6eea81b",
    "_uuid": "a2cec7b480ef13c070d40ca0e0763d2d30a86a9c"
   },
   "source": [
    "# Plot the day of the month to check the date parsing\n",
    "___\n",
    "\n",
    "One of the biggest dangers in parsing dates is mixing up the months and days. The to_datetime() function does have very helpful error messages, but it doesn't hurt to double-check that the days of the month we've extracted make sense. \n",
    "\n",
    "To do this, let's plot a histogram of the days of the month. We expect it to have values between 1 and 31 and, since there's no reason to suppose the landslides are more common on some days of the month than others, a relatively even distribution. (With a dip on 31 because not all months have 31 days.) Let's see if that's the case:"
   ]
  },
  {
   "cell_type": "code",
   "execution_count": 13,
   "metadata": {
    "_cell_guid": "49feb18f-c077-474e-9353-a24ae850acf6",
    "_uuid": "d3d5a143d3d49e10187e420abfe9cfe18c7bac56"
   },
   "outputs": [
    {
     "name": "stderr",
     "output_type": "stream",
     "text": [
      "C:\\Users\\yashu\\AppData\\Local\\Temp\\ipykernel_13976\\13696829.py:5: UserWarning: \n",
      "\n",
      "`distplot` is a deprecated function and will be removed in seaborn v0.14.0.\n",
      "\n",
      "Please adapt your code to use either `displot` (a figure-level function with\n",
      "similar flexibility) or `histplot` (an axes-level function for histograms).\n",
      "\n",
      "For a guide to updating your code to use the new functions, please see\n",
      "https://gist.github.com/mwaskom/de44147ed2974457ad6372750bbe5751\n",
      "\n",
      "  sns.distplot(day_of_month_landslides, kde=False, bins=31)\n"
     ]
    },
    {
     "data": {
      "text/plain": [
       "<Axes: xlabel='date_parsed'>"
      ]
     },
     "execution_count": 13,
     "metadata": {},
     "output_type": "execute_result"
    },
    {
     "data": {
      "image/png": "[encoded data removed]",
      "text/plain": [
       "<Figure size 640x480 with 1 Axes>"
      ]
     },
     "metadata": {},
     "output_type": "display_data"
    }
   ],
   "source": [
    "# remove na's\n",
    "day_of_month_landslides = day_of_month_landslides.dropna()\n",
    "\n",
    "# plot the day of the month\n",
    "sns.distplot(day_of_month_landslides, kde=False, bins=31)"
   ]
  },
  {
   "cell_type": "markdown",
   "metadata": {
    "_cell_guid": "c8c706a4-2697-4520-b0dd-86fc6fb80326",
    "_uuid": "90016c3e93eb8499d9efe2ece32fb5b70dcbd2ae"
   },
   "source": [
    "Yep, it looks like we did parse our dates correctly & this graph makes good sense to me. Why don't you take a turn checking the dates you parsed earlier?"
   ]
  },
  {
   "cell_type": "code",
   "execution_count": null,
   "metadata": {
    "_cell_guid": "7b5a7571-2ee3-4aad-94e9-ba47b06e6a29",
    "_uuid": "f2b79871c730f32f5ef1889912b7a8623eccf98f",
    "collapsed": true,
    "jupyter": {
     "outputs_hidden": true
    }
   },
   "outputs": [],
   "source": [
    "# Your turn! Plot the days of the month from your\n",
    "# earthquake dataset and make sure they make sense.\n"
   ]
  },
  {
   "cell_type": "code",
   "execution_count": 14,
   "metadata": {
    "_cell_guid": "dd64bc7c-c361-44d3-9f02-f7f8a2cb8430",
    "_uuid": "0027b29db32dc34294f713c345747a37d89cfd26"
   },
   "outputs": [
    {
     "data": {
      "text/plain": [
       "764     Unknown\n",
       "1069    1996 CE\n",
       "34      1855 CE\n",
       "489     2016 CE\n",
       "9       1302 CE\n",
       "Name: Last Known Eruption, dtype: object"
      ]
     },
     "execution_count": 14,
     "metadata": {},
     "output_type": "execute_result"
    }
   ],
   "source": [
    "volcanos['Last Known Eruption'].sample(5)"
   ]
  },
  {
   "cell_type": "code",
   "execution_count": null,
   "metadata": {},
   "outputs": [],
   "source": []
  }
 ],
 "metadata": {
  "kaggle": {
   "accelerator": "none",
   "dataSources": [
    {
     "datasetId": 686,
     "sourceId": 1296,
     "sourceType": "datasetVersion"
    },
    {
     "datasetId": 705,
     "sourceId": 1325,
     "sourceType": "datasetVersion"
    },
    {
     "datasetId": 732,
     "sourceId": 1360,
     "sourceType": "datasetVersion"
    }
   ],
   "dockerImageVersionId": 283,
   "isGpuEnabled": false,
   "isInternetEnabled": false,
   "language": "python",
   "sourceType": "notebook"
  },
  "kernelspec": {
   "display_name": "Python 3 (ipykernel)",
   "language": "python",
   "name": "python3"
  },
  "language_info": {
   "codemirror_mode": {
    "name": "ipython",
    "version": 3
   },
   "file_extension": ".py",
   "mimetype": "text/x-python",
   "name": "python",
   "nbconvert_exporter": "python",
   "pygments_lexer": "ipython3",
   "version": "3.12.4"
  }
 },
 "nbformat": 4,
 "nbformat_minor": 4
}
